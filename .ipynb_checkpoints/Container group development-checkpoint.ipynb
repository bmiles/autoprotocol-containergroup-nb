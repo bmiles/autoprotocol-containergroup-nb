{
 "cells": [
  {
   "cell_type": "code",
   "execution_count": 1,
   "metadata": {
    "collapsed": false
   },
   "outputs": [],
   "source": [
    "from autoprotocol import Container, WellGroup, Protocol, Unit\n",
    "from autoprotocol.instruction import *\n",
    "import json"
   ]
  },
  {
   "cell_type": "code",
   "execution_count": 2,
   "metadata": {
    "collapsed": false
   },
   "outputs": [],
   "source": [
    "class ContainerGroup:\n",
    "    def __init__(self,name, containers, timing_type=\"sync\"):\n",
    "        self.name = name\n",
    "        self.containers = containers\n",
    "        if timing_type in [\"sync\", \"async\"]:  \n",
    "            self.timing_type = timing_type\n",
    "        else:\n",
    "            raise TypeError(\"Timing type must be either \\\"async\\\" or \\\"sync\\\"\")\n",
    "        \n",
    "        for container in self.containers:\n",
    "            try:\n",
    "                all_wells_group.extend(container.all_wells())\n",
    "            except NameError:\n",
    "                all_wells_group = container.all_wells()\n",
    "        self.wells = all_wells_group\n",
    "            \n",
    "    def __len__(self):\n",
    "        \"\"\"\n",
    "        Return the number of Containers in a ContainerGroup.\n",
    "        \"\"\"\n",
    "        return len(self.containers)"
   ]
  },
  {
   "cell_type": "code",
   "execution_count": 3,
   "metadata": {
    "collapsed": false
   },
   "outputs": [],
   "source": [
    "def new_incubate(self, ref, where, duration, shaking=False, co2=0,\n",
    "         uncovered=False):\n",
    "    \"\"\"\n",
    "    Move plate or plates to designated thermoisolater or ambient area for incubation\n",
    "    for specified duration.\n",
    "    \n",
    "    If the ref supplied is of type ContainerGroup with a timing_type of \"sync\" then\n",
    "    identical incubate instructions will be generated for each Container in the\n",
    "    ContainerGroup to be executed as close as physically possible to synchronous.\n",
    "    \n",
    "    If the timing_type of the ContainerGroup is \"async\" then just a series of identical\n",
    "    incubate instructions will be generated for each Container.\n",
    "    \n",
    "    Ignore example text.\n",
    "    Example Usage:\n",
    "    .. code-block:: python\n",
    "        p = Protocol()\n",
    "        sample_plate = p.ref(\"sample_plate\",\n",
    "                             None,\n",
    "                             \"96-pcr\",\n",
    "                             storage=\"warm_37\")\n",
    "        # a plate must be sealed/covered before it can be incubated\n",
    "        p.seal(sample_plate)\n",
    "        p.incubate(sample_plate, \"warm_37\", \"1:hour\", shaking=True)\n",
    "    Autoprotocol Output:\n",
    "    .. code-block:: json\n",
    "        \"instructions\": [\n",
    "            {\n",
    "              \"object\": \"sample_plate\",\n",
    "              \"op\": \"seal\"\n",
    "            },\n",
    "            {\n",
    "              \"duration\": \"1:hour\",\n",
    "              \"where\": \"warm_37\",\n",
    "              \"object\": \"sample_plate\",\n",
    "              \"shaking\": true,\n",
    "              \"op\": \"incubate\",\n",
    "              \"co2_percent\": 0\n",
    "            }\n",
    "          ]\n",
    "    \"\"\"    \n",
    "    if not isinstance(ref, (Container, ContainerGroup)):\n",
    "        raise TypeError(\"Ref needs to be of type Container or ContainerGroup\")\n",
    "    allowed_uncovered = [\"ambient\"]\n",
    "    \n",
    "    \n",
    "    if isinstance(ref, ContainerGroup):\n",
    "        for container in ref.containers:\n",
    "            if uncovered and (where not in allowed_uncovered or shaking):\n",
    "                raise RuntimeError(\"If incubating uncovered, \"\n",
    "                           \"location must be in {} and not \"\n",
    "                           \"shaking.\".format(', '.join(allowed_uncovered)))\n",
    "            if not uncovered:\n",
    "                self._add_cover(container, \"incubate\")\n",
    "        if ref.timing_type == \"sync\":\n",
    "            time_points = []\n",
    "            for container in ref.containers:\n",
    "                self.instructions.append(Incubate(container, where, duration, shaking, co2))\n",
    "                time_points.append(self.get_instruction_index())\n",
    "            p.add_time_constraint(\n",
    "                {\"mark\": time_points[0], \"state\": \"start\"},\n",
    "                {\"mark\": time_points[-1], \"state\": \"start\"},\n",
    "                Unit(len(ref),\"minute\"), True)\n",
    "        else:\n",
    "            for container in ref.containers:\n",
    "                self.instructions.append(Incubate(container, where, duration, shaking, co2))\n",
    "    else:\n",
    "        if uncovered and (where not in allowed_uncovered or shaking):\n",
    "            raise RuntimeError(\"If incubating uncovered, \"\n",
    "                \"location must be in {} and not \"\n",
    "                \"shaking.\".format(', '.join(allowed_uncovered)))\n",
    "        if not uncovered:\n",
    "            self._add_cover(ref, \"incubate\")\n",
    "        self.instructions.append(Incubate(ref, where, duration, shaking, co2))\n",
    "        \n",
    "Protocol.incubate = new_incubate"
   ]
  },
  {
   "cell_type": "code",
   "execution_count": 4,
   "metadata": {
    "collapsed": false
   },
   "outputs": [
    {
     "name": "stdout",
     "output_type": "stream",
     "text": [
      "576\n"
     ]
    },
    {
     "data": {
      "text/plain": [
       "WellGroup([Well(Container(one), 0, 50.0:microliter), Well(Container(one), 1, 50.0:microliter), Well(Container(one), 2, 50.0:microliter), Well(Container(one), 3, 50.0:microliter), Well(Container(one), 4, 50.0:microliter), Well(Container(one), 5, 50.0:microliter), Well(Container(one), 6, 50.0:microliter), Well(Container(one), 7, 50.0:microliter), Well(Container(one), 8, 50.0:microliter), Well(Container(one), 9, 50.0:microliter), Well(Container(one), 10, 50.0:microliter), Well(Container(one), 11, 50.0:microliter), Well(Container(one), 12, 50.0:microliter), Well(Container(one), 13, 50.0:microliter), Well(Container(one), 14, 50.0:microliter), Well(Container(one), 15, 50.0:microliter), Well(Container(one), 16, 50.0:microliter), Well(Container(one), 17, 50.0:microliter), Well(Container(one), 18, 50.0:microliter), Well(Container(one), 19, 50.0:microliter), Well(Container(one), 20, 50.0:microliter), Well(Container(one), 21, 50.0:microliter), Well(Container(one), 22, 50.0:microliter), Well(Container(one), 23, 50.0:microliter), Well(Container(one), 24, 50.0:microliter), Well(Container(one), 25, 50.0:microliter), Well(Container(one), 26, 50.0:microliter), Well(Container(one), 27, 50.0:microliter), Well(Container(one), 28, 50.0:microliter), Well(Container(one), 29, 50.0:microliter), Well(Container(one), 30, 50.0:microliter), Well(Container(one), 31, 50.0:microliter), Well(Container(one), 32, 50.0:microliter), Well(Container(one), 33, 50.0:microliter), Well(Container(one), 34, 50.0:microliter), Well(Container(one), 35, 50.0:microliter), Well(Container(one), 36, 50.0:microliter), Well(Container(one), 37, 50.0:microliter), Well(Container(one), 38, 50.0:microliter), Well(Container(one), 39, 50.0:microliter), Well(Container(one), 40, 50.0:microliter), Well(Container(one), 41, 50.0:microliter), Well(Container(one), 42, 50.0:microliter), Well(Container(one), 43, 50.0:microliter), Well(Container(one), 44, 50.0:microliter), Well(Container(one), 45, 50.0:microliter), Well(Container(one), 46, 50.0:microliter), Well(Container(one), 47, 50.0:microliter), Well(Container(one), 48, 50.0:microliter), Well(Container(one), 49, 50.0:microliter), Well(Container(one), 50, 50.0:microliter), Well(Container(one), 51, 50.0:microliter), Well(Container(one), 52, 50.0:microliter), Well(Container(one), 53, 50.0:microliter), Well(Container(one), 54, 50.0:microliter), Well(Container(one), 55, 50.0:microliter), Well(Container(one), 56, 50.0:microliter), Well(Container(one), 57, 50.0:microliter), Well(Container(one), 58, 50.0:microliter), Well(Container(one), 59, 50.0:microliter), Well(Container(one), 60, 50.0:microliter), Well(Container(one), 61, 50.0:microliter), Well(Container(one), 62, 50.0:microliter), Well(Container(one), 63, 50.0:microliter), Well(Container(one), 64, 50.0:microliter), Well(Container(one), 65, 50.0:microliter), Well(Container(one), 66, 50.0:microliter), Well(Container(one), 67, 50.0:microliter), Well(Container(one), 68, 50.0:microliter), Well(Container(one), 69, 50.0:microliter), Well(Container(one), 70, 50.0:microliter), Well(Container(one), 71, 50.0:microliter), Well(Container(one), 72, 50.0:microliter), Well(Container(one), 73, 50.0:microliter), Well(Container(one), 74, 50.0:microliter), Well(Container(one), 75, 50.0:microliter), Well(Container(one), 76, 50.0:microliter), Well(Container(one), 77, 50.0:microliter), Well(Container(one), 78, 50.0:microliter), Well(Container(one), 79, 50.0:microliter), Well(Container(one), 80, 50.0:microliter), Well(Container(one), 81, 50.0:microliter), Well(Container(one), 82, 50.0:microliter), Well(Container(one), 83, 50.0:microliter), Well(Container(one), 84, 50.0:microliter), Well(Container(one), 85, 50.0:microliter), Well(Container(one), 86, 50.0:microliter), Well(Container(one), 87, 50.0:microliter), Well(Container(one), 88, 50.0:microliter), Well(Container(one), 89, 50.0:microliter), Well(Container(one), 90, 50.0:microliter), Well(Container(one), 91, 50.0:microliter), Well(Container(one), 92, 50.0:microliter), Well(Container(one), 93, 50.0:microliter), Well(Container(one), 94, 50.0:microliter), Well(Container(one), 95, 50.0:microliter), Well(Container(two), 0, 50.0:microliter), Well(Container(two), 1, 50.0:microliter), Well(Container(two), 2, 50.0:microliter), Well(Container(two), 3, 50.0:microliter), Well(Container(two), 4, 50.0:microliter), Well(Container(two), 5, 50.0:microliter), Well(Container(two), 6, 50.0:microliter), Well(Container(two), 7, 50.0:microliter), Well(Container(two), 8, 50.0:microliter), Well(Container(two), 9, 50.0:microliter), Well(Container(two), 10, 50.0:microliter), Well(Container(two), 11, 50.0:microliter), Well(Container(two), 12, 50.0:microliter), Well(Container(two), 13, 50.0:microliter), Well(Container(two), 14, 50.0:microliter), Well(Container(two), 15, 50.0:microliter), Well(Container(two), 16, 50.0:microliter), Well(Container(two), 17, 50.0:microliter), Well(Container(two), 18, 50.0:microliter), Well(Container(two), 19, 50.0:microliter), Well(Container(two), 20, 50.0:microliter), Well(Container(two), 21, 50.0:microliter), Well(Container(two), 22, 50.0:microliter), Well(Container(two), 23, 50.0:microliter), Well(Container(two), 24, 50.0:microliter), Well(Container(two), 25, 50.0:microliter), Well(Container(two), 26, 50.0:microliter), Well(Container(two), 27, 50.0:microliter), Well(Container(two), 28, 50.0:microliter), Well(Container(two), 29, 50.0:microliter), Well(Container(two), 30, 50.0:microliter), Well(Container(two), 31, 50.0:microliter), Well(Container(two), 32, 50.0:microliter), Well(Container(two), 33, 50.0:microliter), Well(Container(two), 34, 50.0:microliter), Well(Container(two), 35, 50.0:microliter), Well(Container(two), 36, 50.0:microliter), Well(Container(two), 37, 50.0:microliter), Well(Container(two), 38, 50.0:microliter), Well(Container(two), 39, 50.0:microliter), Well(Container(two), 40, 50.0:microliter), Well(Container(two), 41, 50.0:microliter), Well(Container(two), 42, 50.0:microliter), Well(Container(two), 43, 50.0:microliter), Well(Container(two), 44, 50.0:microliter), Well(Container(two), 45, 50.0:microliter), Well(Container(two), 46, 50.0:microliter), Well(Container(two), 47, 50.0:microliter), Well(Container(two), 48, 50.0:microliter), Well(Container(two), 49, 50.0:microliter), Well(Container(two), 50, 50.0:microliter), Well(Container(two), 51, 50.0:microliter), Well(Container(two), 52, 50.0:microliter), Well(Container(two), 53, 50.0:microliter), Well(Container(two), 54, 50.0:microliter), Well(Container(two), 55, 50.0:microliter), Well(Container(two), 56, 50.0:microliter), Well(Container(two), 57, 50.0:microliter), Well(Container(two), 58, 50.0:microliter), Well(Container(two), 59, 50.0:microliter), Well(Container(two), 60, 50.0:microliter), Well(Container(two), 61, 50.0:microliter), Well(Container(two), 62, 50.0:microliter), Well(Container(two), 63, 50.0:microliter), Well(Container(two), 64, 50.0:microliter), Well(Container(two), 65, 50.0:microliter), Well(Container(two), 66, 50.0:microliter), Well(Container(two), 67, 50.0:microliter), Well(Container(two), 68, 50.0:microliter), Well(Container(two), 69, 50.0:microliter), Well(Container(two), 70, 50.0:microliter), Well(Container(two), 71, 50.0:microliter), Well(Container(two), 72, 50.0:microliter), Well(Container(two), 73, 50.0:microliter), Well(Container(two), 74, 50.0:microliter), Well(Container(two), 75, 50.0:microliter), Well(Container(two), 76, 50.0:microliter), Well(Container(two), 77, 50.0:microliter), Well(Container(two), 78, 50.0:microliter), Well(Container(two), 79, 50.0:microliter), Well(Container(two), 80, 50.0:microliter), Well(Container(two), 81, 50.0:microliter), Well(Container(two), 82, 50.0:microliter), Well(Container(two), 83, 50.0:microliter), Well(Container(two), 84, 50.0:microliter), Well(Container(two), 85, 50.0:microliter), Well(Container(two), 86, 50.0:microliter), Well(Container(two), 87, 50.0:microliter), Well(Container(two), 88, 50.0:microliter), Well(Container(two), 89, 50.0:microliter), Well(Container(two), 90, 50.0:microliter), Well(Container(two), 91, 50.0:microliter), Well(Container(two), 92, 50.0:microliter), Well(Container(two), 93, 50.0:microliter), Well(Container(two), 94, 50.0:microliter), Well(Container(two), 95, 50.0:microliter), Well(Container(two), 96, 50.0:microliter), Well(Container(two), 97, 50.0:microliter), Well(Container(two), 98, 50.0:microliter), Well(Container(two), 99, 50.0:microliter), Well(Container(two), 100, 50.0:microliter), Well(Container(two), 101, 50.0:microliter), Well(Container(two), 102, 50.0:microliter), Well(Container(two), 103, 50.0:microliter), Well(Container(two), 104, 50.0:microliter), Well(Container(two), 105, 50.0:microliter), Well(Container(two), 106, 50.0:microliter), Well(Container(two), 107, 50.0:microliter), Well(Container(two), 108, 50.0:microliter), Well(Container(two), 109, 50.0:microliter), Well(Container(two), 110, 50.0:microliter), Well(Container(two), 111, 50.0:microliter), Well(Container(two), 112, 50.0:microliter), Well(Container(two), 113, 50.0:microliter), Well(Container(two), 114, 50.0:microliter), Well(Container(two), 115, 50.0:microliter), Well(Container(two), 116, 50.0:microliter), Well(Container(two), 117, 50.0:microliter), Well(Container(two), 118, 50.0:microliter), Well(Container(two), 119, 50.0:microliter), Well(Container(two), 120, 50.0:microliter), Well(Container(two), 121, 50.0:microliter), Well(Container(two), 122, 50.0:microliter), Well(Container(two), 123, 50.0:microliter), Well(Container(two), 124, 50.0:microliter), Well(Container(two), 125, 50.0:microliter), Well(Container(two), 126, 50.0:microliter), Well(Container(two), 127, 50.0:microliter), Well(Container(two), 128, 50.0:microliter), Well(Container(two), 129, 50.0:microliter), Well(Container(two), 130, 50.0:microliter), Well(Container(two), 131, 50.0:microliter), Well(Container(two), 132, 50.0:microliter), Well(Container(two), 133, 50.0:microliter), Well(Container(two), 134, 50.0:microliter), Well(Container(two), 135, 50.0:microliter), Well(Container(two), 136, 50.0:microliter), Well(Container(two), 137, 50.0:microliter), Well(Container(two), 138, 50.0:microliter), Well(Container(two), 139, 50.0:microliter), Well(Container(two), 140, 50.0:microliter), Well(Container(two), 141, 50.0:microliter), Well(Container(two), 142, 50.0:microliter), Well(Container(two), 143, 50.0:microliter), Well(Container(two), 144, 50.0:microliter), Well(Container(two), 145, 50.0:microliter), Well(Container(two), 146, 50.0:microliter), Well(Container(two), 147, 50.0:microliter), Well(Container(two), 148, 50.0:microliter), Well(Container(two), 149, 50.0:microliter), Well(Container(two), 150, 50.0:microliter), Well(Container(two), 151, 50.0:microliter), Well(Container(two), 152, 50.0:microliter), Well(Container(two), 153, 50.0:microliter), Well(Container(two), 154, 50.0:microliter), Well(Container(two), 155, 50.0:microliter), Well(Container(two), 156, 50.0:microliter), Well(Container(two), 157, 50.0:microliter), Well(Container(two), 158, 50.0:microliter), Well(Container(two), 159, 50.0:microliter), Well(Container(two), 160, 50.0:microliter), Well(Container(two), 161, 50.0:microliter), Well(Container(two), 162, 50.0:microliter), Well(Container(two), 163, 50.0:microliter), Well(Container(two), 164, 50.0:microliter), Well(Container(two), 165, 50.0:microliter), Well(Container(two), 166, 50.0:microliter), Well(Container(two), 167, 50.0:microliter), Well(Container(two), 168, 50.0:microliter), Well(Container(two), 169, 50.0:microliter), Well(Container(two), 170, 50.0:microliter), Well(Container(two), 171, 50.0:microliter), Well(Container(two), 172, 50.0:microliter), Well(Container(two), 173, 50.0:microliter), Well(Container(two), 174, 50.0:microliter), Well(Container(two), 175, 50.0:microliter), Well(Container(two), 176, 50.0:microliter), Well(Container(two), 177, 50.0:microliter), Well(Container(two), 178, 50.0:microliter), Well(Container(two), 179, 50.0:microliter), Well(Container(two), 180, 50.0:microliter), Well(Container(two), 181, 50.0:microliter), Well(Container(two), 182, 50.0:microliter), Well(Container(two), 183, 50.0:microliter), Well(Container(two), 184, 50.0:microliter), Well(Container(two), 185, 50.0:microliter), Well(Container(two), 186, 50.0:microliter), Well(Container(two), 187, 50.0:microliter), Well(Container(two), 188, 50.0:microliter), Well(Container(two), 189, 50.0:microliter), Well(Container(two), 190, 50.0:microliter), Well(Container(two), 191, 50.0:microliter), Well(Container(two), 192, 50.0:microliter), Well(Container(two), 193, 50.0:microliter), Well(Container(two), 194, 50.0:microliter), Well(Container(two), 195, 50.0:microliter), Well(Container(two), 196, 50.0:microliter), Well(Container(two), 197, 50.0:microliter), Well(Container(two), 198, 50.0:microliter), Well(Container(two), 199, 50.0:microliter), Well(Container(two), 200, 50.0:microliter), Well(Container(two), 201, 50.0:microliter), Well(Container(two), 202, 50.0:microliter), Well(Container(two), 203, 50.0:microliter), Well(Container(two), 204, 50.0:microliter), Well(Container(two), 205, 50.0:microliter), Well(Container(two), 206, 50.0:microliter), Well(Container(two), 207, 50.0:microliter), Well(Container(two), 208, 50.0:microliter), Well(Container(two), 209, 50.0:microliter), Well(Container(two), 210, 50.0:microliter), Well(Container(two), 211, 50.0:microliter), Well(Container(two), 212, 50.0:microliter), Well(Container(two), 213, 50.0:microliter), Well(Container(two), 214, 50.0:microliter), Well(Container(two), 215, 50.0:microliter), Well(Container(two), 216, 50.0:microliter), Well(Container(two), 217, 50.0:microliter), Well(Container(two), 218, 50.0:microliter), Well(Container(two), 219, 50.0:microliter), Well(Container(two), 220, 50.0:microliter), Well(Container(two), 221, 50.0:microliter), Well(Container(two), 222, 50.0:microliter), Well(Container(two), 223, 50.0:microliter), Well(Container(two), 224, 50.0:microliter), Well(Container(two), 225, 50.0:microliter), Well(Container(two), 226, 50.0:microliter), Well(Container(two), 227, 50.0:microliter), Well(Container(two), 228, 50.0:microliter), Well(Container(two), 229, 50.0:microliter), Well(Container(two), 230, 50.0:microliter), Well(Container(two), 231, 50.0:microliter), Well(Container(two), 232, 50.0:microliter), Well(Container(two), 233, 50.0:microliter), Well(Container(two), 234, 50.0:microliter), Well(Container(two), 235, 50.0:microliter), Well(Container(two), 236, 50.0:microliter), Well(Container(two), 237, 50.0:microliter), Well(Container(two), 238, 50.0:microliter), Well(Container(two), 239, 50.0:microliter), Well(Container(two), 240, 50.0:microliter), Well(Container(two), 241, 50.0:microliter), Well(Container(two), 242, 50.0:microliter), Well(Container(two), 243, 50.0:microliter), Well(Container(two), 244, 50.0:microliter), Well(Container(two), 245, 50.0:microliter), Well(Container(two), 246, 50.0:microliter), Well(Container(two), 247, 50.0:microliter), Well(Container(two), 248, 50.0:microliter), Well(Container(two), 249, 50.0:microliter), Well(Container(two), 250, 50.0:microliter), Well(Container(two), 251, 50.0:microliter), Well(Container(two), 252, 50.0:microliter), Well(Container(two), 253, 50.0:microliter), Well(Container(two), 254, 50.0:microliter), Well(Container(two), 255, 50.0:microliter), Well(Container(two), 256, 50.0:microliter), Well(Container(two), 257, 50.0:microliter), Well(Container(two), 258, 50.0:microliter), Well(Container(two), 259, 50.0:microliter), Well(Container(two), 260, 50.0:microliter), Well(Container(two), 261, 50.0:microliter), Well(Container(two), 262, 50.0:microliter), Well(Container(two), 263, 50.0:microliter), Well(Container(two), 264, 50.0:microliter), Well(Container(two), 265, 50.0:microliter), Well(Container(two), 266, 50.0:microliter), Well(Container(two), 267, 50.0:microliter), Well(Container(two), 268, 50.0:microliter), Well(Container(two), 269, 50.0:microliter), Well(Container(two), 270, 50.0:microliter), Well(Container(two), 271, 50.0:microliter), Well(Container(two), 272, 50.0:microliter), Well(Container(two), 273, 50.0:microliter), Well(Container(two), 274, 50.0:microliter), Well(Container(two), 275, 50.0:microliter), Well(Container(two), 276, 50.0:microliter), Well(Container(two), 277, 50.0:microliter), Well(Container(two), 278, 50.0:microliter), Well(Container(two), 279, 50.0:microliter), Well(Container(two), 280, 50.0:microliter), Well(Container(two), 281, 50.0:microliter), Well(Container(two), 282, 50.0:microliter), Well(Container(two), 283, 50.0:microliter), Well(Container(two), 284, 50.0:microliter), Well(Container(two), 285, 50.0:microliter), Well(Container(two), 286, 50.0:microliter), Well(Container(two), 287, 50.0:microliter), Well(Container(two), 288, 50.0:microliter), Well(Container(two), 289, 50.0:microliter), Well(Container(two), 290, 50.0:microliter), Well(Container(two), 291, 50.0:microliter), Well(Container(two), 292, 50.0:microliter), Well(Container(two), 293, 50.0:microliter), Well(Container(two), 294, 50.0:microliter), Well(Container(two), 295, 50.0:microliter), Well(Container(two), 296, 50.0:microliter), Well(Container(two), 297, 50.0:microliter), Well(Container(two), 298, 50.0:microliter), Well(Container(two), 299, 50.0:microliter), Well(Container(two), 300, 50.0:microliter), Well(Container(two), 301, 50.0:microliter), Well(Container(two), 302, 50.0:microliter), Well(Container(two), 303, 50.0:microliter), Well(Container(two), 304, 50.0:microliter), Well(Container(two), 305, 50.0:microliter), Well(Container(two), 306, 50.0:microliter), Well(Container(two), 307, 50.0:microliter), Well(Container(two), 308, 50.0:microliter), Well(Container(two), 309, 50.0:microliter), Well(Container(two), 310, 50.0:microliter), Well(Container(two), 311, 50.0:microliter), Well(Container(two), 312, 50.0:microliter), Well(Container(two), 313, 50.0:microliter), Well(Container(two), 314, 50.0:microliter), Well(Container(two), 315, 50.0:microliter), Well(Container(two), 316, 50.0:microliter), Well(Container(two), 317, 50.0:microliter), Well(Container(two), 318, 50.0:microliter), Well(Container(two), 319, 50.0:microliter), Well(Container(two), 320, 50.0:microliter), Well(Container(two), 321, 50.0:microliter), Well(Container(two), 322, 50.0:microliter), Well(Container(two), 323, 50.0:microliter), Well(Container(two), 324, 50.0:microliter), Well(Container(two), 325, 50.0:microliter), Well(Container(two), 326, 50.0:microliter), Well(Container(two), 327, 50.0:microliter), Well(Container(two), 328, 50.0:microliter), Well(Container(two), 329, 50.0:microliter), Well(Container(two), 330, 50.0:microliter), Well(Container(two), 331, 50.0:microliter), Well(Container(two), 332, 50.0:microliter), Well(Container(two), 333, 50.0:microliter), Well(Container(two), 334, 50.0:microliter), Well(Container(two), 335, 50.0:microliter), Well(Container(two), 336, 50.0:microliter), Well(Container(two), 337, 50.0:microliter), Well(Container(two), 338, 50.0:microliter), Well(Container(two), 339, 50.0:microliter), Well(Container(two), 340, 50.0:microliter), Well(Container(two), 341, 50.0:microliter), Well(Container(two), 342, 50.0:microliter), Well(Container(two), 343, 50.0:microliter), Well(Container(two), 344, 50.0:microliter), Well(Container(two), 345, 50.0:microliter), Well(Container(two), 346, 50.0:microliter), Well(Container(two), 347, 50.0:microliter), Well(Container(two), 348, 50.0:microliter), Well(Container(two), 349, 50.0:microliter), Well(Container(two), 350, 50.0:microliter), Well(Container(two), 351, 50.0:microliter), Well(Container(two), 352, 50.0:microliter), Well(Container(two), 353, 50.0:microliter), Well(Container(two), 354, 50.0:microliter), Well(Container(two), 355, 50.0:microliter), Well(Container(two), 356, 50.0:microliter), Well(Container(two), 357, 50.0:microliter), Well(Container(two), 358, 50.0:microliter), Well(Container(two), 359, 50.0:microliter), Well(Container(two), 360, 50.0:microliter), Well(Container(two), 361, 50.0:microliter), Well(Container(two), 362, 50.0:microliter), Well(Container(two), 363, 50.0:microliter), Well(Container(two), 364, 50.0:microliter), Well(Container(two), 365, 50.0:microliter), Well(Container(two), 366, 50.0:microliter), Well(Container(two), 367, 50.0:microliter), Well(Container(two), 368, 50.0:microliter), Well(Container(two), 369, 50.0:microliter), Well(Container(two), 370, 50.0:microliter), Well(Container(two), 371, 50.0:microliter), Well(Container(two), 372, 50.0:microliter), Well(Container(two), 373, 50.0:microliter), Well(Container(two), 374, 50.0:microliter), Well(Container(two), 375, 50.0:microliter), Well(Container(two), 376, 50.0:microliter), Well(Container(two), 377, 50.0:microliter), Well(Container(two), 378, 50.0:microliter), Well(Container(two), 379, 50.0:microliter), Well(Container(two), 380, 50.0:microliter), Well(Container(two), 381, 50.0:microliter), Well(Container(two), 382, 50.0:microliter), Well(Container(two), 383, 50.0:microliter), Well(Container(thr), 0, 50.0:microliter), Well(Container(thr), 1, 50.0:microliter), Well(Container(thr), 2, 50.0:microliter), Well(Container(thr), 3, 50.0:microliter), Well(Container(thr), 4, 50.0:microliter), Well(Container(thr), 5, 50.0:microliter), Well(Container(thr), 6, 50.0:microliter), Well(Container(thr), 7, 50.0:microliter), Well(Container(thr), 8, 50.0:microliter), Well(Container(thr), 9, 50.0:microliter), Well(Container(thr), 10, 50.0:microliter), Well(Container(thr), 11, 50.0:microliter), Well(Container(thr), 12, 50.0:microliter), Well(Container(thr), 13, 50.0:microliter), Well(Container(thr), 14, 50.0:microliter), Well(Container(thr), 15, 50.0:microliter), Well(Container(thr), 16, 50.0:microliter), Well(Container(thr), 17, 50.0:microliter), Well(Container(thr), 18, 50.0:microliter), Well(Container(thr), 19, 50.0:microliter), Well(Container(thr), 20, 50.0:microliter), Well(Container(thr), 21, 50.0:microliter), Well(Container(thr), 22, 50.0:microliter), Well(Container(thr), 23, 50.0:microliter), Well(Container(thr), 24, 50.0:microliter), Well(Container(thr), 25, 50.0:microliter), Well(Container(thr), 26, 50.0:microliter), Well(Container(thr), 27, 50.0:microliter), Well(Container(thr), 28, 50.0:microliter), Well(Container(thr), 29, 50.0:microliter), Well(Container(thr), 30, 50.0:microliter), Well(Container(thr), 31, 50.0:microliter), Well(Container(thr), 32, 50.0:microliter), Well(Container(thr), 33, 50.0:microliter), Well(Container(thr), 34, 50.0:microliter), Well(Container(thr), 35, 50.0:microliter), Well(Container(thr), 36, 50.0:microliter), Well(Container(thr), 37, 50.0:microliter), Well(Container(thr), 38, 50.0:microliter), Well(Container(thr), 39, 50.0:microliter), Well(Container(thr), 40, 50.0:microliter), Well(Container(thr), 41, 50.0:microliter), Well(Container(thr), 42, 50.0:microliter), Well(Container(thr), 43, 50.0:microliter), Well(Container(thr), 44, 50.0:microliter), Well(Container(thr), 45, 50.0:microliter), Well(Container(thr), 46, 50.0:microliter), Well(Container(thr), 47, 50.0:microliter), Well(Container(thr), 48, 50.0:microliter), Well(Container(thr), 49, 50.0:microliter), Well(Container(thr), 50, 50.0:microliter), Well(Container(thr), 51, 50.0:microliter), Well(Container(thr), 52, 50.0:microliter), Well(Container(thr), 53, 50.0:microliter), Well(Container(thr), 54, 50.0:microliter), Well(Container(thr), 55, 50.0:microliter), Well(Container(thr), 56, 50.0:microliter), Well(Container(thr), 57, 50.0:microliter), Well(Container(thr), 58, 50.0:microliter), Well(Container(thr), 59, 50.0:microliter), Well(Container(thr), 60, 50.0:microliter), Well(Container(thr), 61, 50.0:microliter), Well(Container(thr), 62, 50.0:microliter), Well(Container(thr), 63, 50.0:microliter), Well(Container(thr), 64, 50.0:microliter), Well(Container(thr), 65, 50.0:microliter), Well(Container(thr), 66, 50.0:microliter), Well(Container(thr), 67, 50.0:microliter), Well(Container(thr), 68, 50.0:microliter), Well(Container(thr), 69, 50.0:microliter), Well(Container(thr), 70, 50.0:microliter), Well(Container(thr), 71, 50.0:microliter), Well(Container(thr), 72, 50.0:microliter), Well(Container(thr), 73, 50.0:microliter), Well(Container(thr), 74, 50.0:microliter), Well(Container(thr), 75, 50.0:microliter), Well(Container(thr), 76, 50.0:microliter), Well(Container(thr), 77, 50.0:microliter), Well(Container(thr), 78, 50.0:microliter), Well(Container(thr), 79, 50.0:microliter), Well(Container(thr), 80, 50.0:microliter), Well(Container(thr), 81, 50.0:microliter), Well(Container(thr), 82, 50.0:microliter), Well(Container(thr), 83, 50.0:microliter), Well(Container(thr), 84, 50.0:microliter), Well(Container(thr), 85, 50.0:microliter), Well(Container(thr), 86, 50.0:microliter), Well(Container(thr), 87, 50.0:microliter), Well(Container(thr), 88, 50.0:microliter), Well(Container(thr), 89, 50.0:microliter), Well(Container(thr), 90, 50.0:microliter), Well(Container(thr), 91, 50.0:microliter), Well(Container(thr), 92, 50.0:microliter), Well(Container(thr), 93, 50.0:microliter), Well(Container(thr), 94, 50.0:microliter), Well(Container(thr), 95, 50.0:microliter)])"
      ]
     },
     "execution_count": 4,
     "metadata": {},
     "output_type": "execute_result"
    }
   ],
   "source": [
    "p = Protocol()\n",
    "\n",
    "container1 = p.ref(\"one\", cont_type = \"96-flat\",storage=\"cold_4\", discard=False)\n",
    "container2 = p.ref(\"two\", cont_type = \"384-flat\",storage=\"cold_4\", discard=False)\n",
    "container3 = p.ref(\"thr\", cont_type = \"96-flat\",storage=\"cold_4\", discard=False)\n",
    "\n",
    "# Create a synchronous container group\n",
    "cg = ContainerGroup(\"cg\", [container1,container2,container3], \"sync\")\n",
    "\n",
    "print len(cg.wells)\n",
    "cg.wells.set_volume(\"50:microliter\")"
   ]
  },
  {
   "cell_type": "code",
   "execution_count": 5,
   "metadata": {
    "collapsed": false
   },
   "outputs": [],
   "source": [
    "p.incubate(cg, \"warm_37\", \"50:minute\", False, 0)"
   ]
  },
  {
   "cell_type": "code",
   "execution_count": 6,
   "metadata": {
    "collapsed": false
   },
   "outputs": [
    {
     "name": "stdout",
     "output_type": "stream",
     "text": [
      "{\n",
      "  \"refs\": {\n",
      "    \"one\": {\n",
      "      \"new\": \"96-flat\", \n",
      "      \"store\": {\n",
      "        \"where\": \"cold_4\"\n",
      "      }\n",
      "    }, \n",
      "    \"thr\": {\n",
      "      \"new\": \"96-flat\", \n",
      "      \"store\": {\n",
      "        \"where\": \"cold_4\"\n",
      "      }\n",
      "    }, \n",
      "    \"two\": {\n",
      "      \"new\": \"384-flat\", \n",
      "      \"store\": {\n",
      "        \"where\": \"cold_4\"\n",
      "      }\n",
      "    }\n",
      "  }, \n",
      "  \"time_constraints\": [\n",
      "    {\n",
      "      \"to\": {\n",
      "        \"instruction_start\": 5\n",
      "      }, \n",
      "      \"less_than\": \"3.0:minute\", \n",
      "      \"from\": {\n",
      "        \"instruction_start\": 3\n",
      "      }\n",
      "    }, \n",
      "    {\n",
      "      \"to\": {\n",
      "        \"instruction_start\": 3\n",
      "      }, \n",
      "      \"less_than\": \"3.0:minute\", \n",
      "      \"from\": {\n",
      "        \"instruction_start\": 5\n",
      "      }\n",
      "    }\n",
      "  ], \n",
      "  \"instructions\": [\n",
      "    {\n",
      "      \"lid\": \"standard\", \n",
      "      \"object\": \"one\", \n",
      "      \"op\": \"cover\"\n",
      "    }, \n",
      "    {\n",
      "      \"lid\": \"standard\", \n",
      "      \"object\": \"two\", \n",
      "      \"op\": \"cover\"\n",
      "    }, \n",
      "    {\n",
      "      \"lid\": \"standard\", \n",
      "      \"object\": \"thr\", \n",
      "      \"op\": \"cover\"\n",
      "    }, \n",
      "    {\n",
      "      \"where\": \"warm_37\", \n",
      "      \"object\": \"one\", \n",
      "      \"co2_percent\": 0, \n",
      "      \"duration\": \"50:minute\", \n",
      "      \"shaking\": false, \n",
      "      \"op\": \"incubate\"\n",
      "    }, \n",
      "    {\n",
      "      \"where\": \"warm_37\", \n",
      "      \"object\": \"two\", \n",
      "      \"co2_percent\": 0, \n",
      "      \"duration\": \"50:minute\", \n",
      "      \"shaking\": false, \n",
      "      \"op\": \"incubate\"\n",
      "    }, \n",
      "    {\n",
      "      \"where\": \"warm_37\", \n",
      "      \"object\": \"thr\", \n",
      "      \"co2_percent\": 0, \n",
      "      \"duration\": \"50:minute\", \n",
      "      \"shaking\": false, \n",
      "      \"op\": \"incubate\"\n",
      "    }\n",
      "  ]\n",
      "}\n"
     ]
    }
   ],
   "source": [
    "print json.dumps(p.as_dict(), indent=2)"
   ]
  }
 ],
 "metadata": {
  "kernelspec": {
   "display_name": "Python 2",
   "language": "python",
   "name": "python2"
  },
  "language_info": {
   "codemirror_mode": {
    "name": "ipython",
    "version": 2
   },
   "file_extension": ".py",
   "mimetype": "text/x-python",
   "name": "python",
   "nbconvert_exporter": "python",
   "pygments_lexer": "ipython2",
   "version": "2.7.11"
  }
 },
 "nbformat": 4,
 "nbformat_minor": 0
}
